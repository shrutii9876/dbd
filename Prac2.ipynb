{
 "cells": [
  {
   "cell_type": "code",
   "execution_count": 1,
   "id": "608a35d4-1fba-4805-b336-6310fc3fcb2f",
   "metadata": {},
   "outputs": [],
   "source": [
    "import opendatasets as od\n",
    "import pandas as pd\n",
    "import matplotlib.pylab as plt\n",
    "import numpy as np"
   ]
  },
  {
   "cell_type": "code",
   "execution_count": 2,
   "id": "e0050c51-6ca9-4071-9042-7d6e93d167ef",
   "metadata": {},
   "outputs": [
    {
     "name": "stdout",
     "output_type": "stream",
     "text": [
      "Please provide your Kaggle credentials to download this dataset. Learn more: http://bit.ly/kaggle-creds\n",
      "Your Kaggle username:"
     ]
    },
    {
     "name": "stdin",
     "output_type": "stream",
     "text": [
      "  pritipatil07\n"
     ]
    },
    {
     "name": "stdout",
     "output_type": "stream",
     "text": [
      "Your Kaggle Key:"
     ]
    },
    {
     "name": "stdin",
     "output_type": "stream",
     "text": [
      "  ········\n"
     ]
    },
    {
     "name": "stdout",
     "output_type": "stream",
     "text": [
      "Dataset URL: https://www.kaggle.com/datasets/sankha1998/student-semester-result\n",
      "Downloading student-semester-result.zip to .\\student-semester-result\n"
     ]
    },
    {
     "name": "stderr",
     "output_type": "stream",
     "text": [
      "100%|██████████| 2.41k/2.41k [00:00<00:00, 411kB/s]"
     ]
    },
    {
     "name": "stdout",
     "output_type": "stream",
     "text": [
      "\n"
     ]
    },
    {
     "name": "stderr",
     "output_type": "stream",
     "text": [
      "\n"
     ]
    }
   ],
   "source": [
    "od.download(\"https://www.kaggle.com/datasets/sankha1998/student-semester-result\")"
   ]
  },
  {
   "cell_type": "code",
   "execution_count": 3,
   "id": "654354bd-564e-4831-9ced-fbe9b8f91a21",
   "metadata": {},
   "outputs": [],
   "source": [
    "df=pd.read_csv(\"C:/Users/hp/Downloads/DSBDA Practicals/student-semester-result/data.csv\")"
   ]
  },
  {
   "cell_type": "code",
   "execution_count": 4,
   "id": "22407e05-abf3-4d51-8fb6-2ddccc1cadeb",
   "metadata": {},
   "outputs": [
    {
     "name": "stdout",
     "output_type": "stream",
     "text": [
      "      1st   2nd   3rd   4th   5th  College Code  Gender     Roll  Roll no.  \\\n",
      "0    8.11  7.68  7.11  7.43  8.18           115  Female      NaN   17020.0   \n",
      "1    6.48  5.90  4.15  4.29  4.96           115    Male      NaN   17021.0   \n",
      "2    8.41  8.24  7.52  8.25  7.75           115  Female      NaN   17022.0   \n",
      "3    7.33  6.83  6.33  6.79  6.89           115    Male      NaN   17023.0   \n",
      "4    7.89  7.34  7.22  7.32  7.46           115    Male      NaN   17024.0   \n",
      "..    ...   ...   ...   ...   ...           ...     ...      ...       ...   \n",
      "173  7.48  7.55  7.67  7.39  8.65           241       F  17048.0       NaN   \n",
      "174  7.30  6.41  6.59  7.11  7.38           241       M  17049.0       NaN   \n",
      "175  6.30  6.28  5.89  5.71  6.50           241       M  17050.0       NaN   \n",
      "176  7.04  7.10  6.81  7.00  6.92           241       M  17051.0       NaN   \n",
      "177  6.70  6.81  6.52  5.39  7.00           241       M  17052.0       NaN   \n",
      "\n",
      "     Subject Code  \n",
      "0              16  \n",
      "1              16  \n",
      "2              16  \n",
      "3              16  \n",
      "4              16  \n",
      "..            ...  \n",
      "173            28  \n",
      "174            28  \n",
      "175            28  \n",
      "176            28  \n",
      "177            28  \n",
      "\n",
      "[178 rows x 10 columns]\n"
     ]
    }
   ],
   "source": [
    "print(df)"
   ]
  },
  {
   "cell_type": "code",
   "execution_count": 5,
   "id": "30352159-153b-498f-ba16-a54cdc02043e",
   "metadata": {},
   "outputs": [
    {
     "name": "stdout",
     "output_type": "stream",
     "text": [
      "<class 'pandas.core.frame.DataFrame'>\n",
      "RangeIndex: 178 entries, 0 to 177\n",
      "Data columns (total 10 columns):\n",
      " #   Column        Non-Null Count  Dtype  \n",
      "---  ------        --------------  -----  \n",
      " 0   1st           176 non-null    float64\n",
      " 1   2nd           174 non-null    float64\n",
      " 2   3rd           176 non-null    float64\n",
      " 3   4th           173 non-null    float64\n",
      " 4   5th           172 non-null    float64\n",
      " 5   College Code  178 non-null    int64  \n",
      " 6   Gender        177 non-null    object \n",
      " 7   Roll          132 non-null    float64\n",
      " 8   Roll no.      46 non-null     float64\n",
      " 9   Subject Code  178 non-null    int64  \n",
      "dtypes: float64(7), int64(2), object(1)\n",
      "memory usage: 14.0+ KB\n"
     ]
    }
   ],
   "source": [
    "df.info()"
   ]
  },
  {
   "cell_type": "code",
   "execution_count": 6,
   "id": "2321d325-c565-4f8b-a6e9-0bea2c5ee50a",
   "metadata": {},
   "outputs": [
    {
     "data": {
      "text/html": [
       "<div>\n",
       "<style scoped>\n",
       "    .dataframe tbody tr th:only-of-type {\n",
       "        vertical-align: middle;\n",
       "    }\n",
       "\n",
       "    .dataframe tbody tr th {\n",
       "        vertical-align: top;\n",
       "    }\n",
       "\n",
       "    .dataframe thead th {\n",
       "        text-align: right;\n",
       "    }\n",
       "</style>\n",
       "<table border=\"1\" class=\"dataframe\">\n",
       "  <thead>\n",
       "    <tr style=\"text-align: right;\">\n",
       "      <th></th>\n",
       "      <th>1st</th>\n",
       "      <th>2nd</th>\n",
       "      <th>3rd</th>\n",
       "      <th>4th</th>\n",
       "      <th>5th</th>\n",
       "      <th>College Code</th>\n",
       "      <th>Gender</th>\n",
       "      <th>Roll</th>\n",
       "      <th>Roll no.</th>\n",
       "      <th>Subject Code</th>\n",
       "    </tr>\n",
       "  </thead>\n",
       "  <tbody>\n",
       "    <tr>\n",
       "      <th>0</th>\n",
       "      <td>False</td>\n",
       "      <td>False</td>\n",
       "      <td>False</td>\n",
       "      <td>False</td>\n",
       "      <td>False</td>\n",
       "      <td>False</td>\n",
       "      <td>False</td>\n",
       "      <td>True</td>\n",
       "      <td>False</td>\n",
       "      <td>False</td>\n",
       "    </tr>\n",
       "    <tr>\n",
       "      <th>1</th>\n",
       "      <td>False</td>\n",
       "      <td>False</td>\n",
       "      <td>False</td>\n",
       "      <td>False</td>\n",
       "      <td>False</td>\n",
       "      <td>False</td>\n",
       "      <td>False</td>\n",
       "      <td>True</td>\n",
       "      <td>False</td>\n",
       "      <td>False</td>\n",
       "    </tr>\n",
       "    <tr>\n",
       "      <th>2</th>\n",
       "      <td>False</td>\n",
       "      <td>False</td>\n",
       "      <td>False</td>\n",
       "      <td>False</td>\n",
       "      <td>False</td>\n",
       "      <td>False</td>\n",
       "      <td>False</td>\n",
       "      <td>True</td>\n",
       "      <td>False</td>\n",
       "      <td>False</td>\n",
       "    </tr>\n",
       "    <tr>\n",
       "      <th>3</th>\n",
       "      <td>False</td>\n",
       "      <td>False</td>\n",
       "      <td>False</td>\n",
       "      <td>False</td>\n",
       "      <td>False</td>\n",
       "      <td>False</td>\n",
       "      <td>False</td>\n",
       "      <td>True</td>\n",
       "      <td>False</td>\n",
       "      <td>False</td>\n",
       "    </tr>\n",
       "    <tr>\n",
       "      <th>4</th>\n",
       "      <td>False</td>\n",
       "      <td>False</td>\n",
       "      <td>False</td>\n",
       "      <td>False</td>\n",
       "      <td>False</td>\n",
       "      <td>False</td>\n",
       "      <td>False</td>\n",
       "      <td>True</td>\n",
       "      <td>False</td>\n",
       "      <td>False</td>\n",
       "    </tr>\n",
       "    <tr>\n",
       "      <th>...</th>\n",
       "      <td>...</td>\n",
       "      <td>...</td>\n",
       "      <td>...</td>\n",
       "      <td>...</td>\n",
       "      <td>...</td>\n",
       "      <td>...</td>\n",
       "      <td>...</td>\n",
       "      <td>...</td>\n",
       "      <td>...</td>\n",
       "      <td>...</td>\n",
       "    </tr>\n",
       "    <tr>\n",
       "      <th>173</th>\n",
       "      <td>False</td>\n",
       "      <td>False</td>\n",
       "      <td>False</td>\n",
       "      <td>False</td>\n",
       "      <td>False</td>\n",
       "      <td>False</td>\n",
       "      <td>False</td>\n",
       "      <td>False</td>\n",
       "      <td>True</td>\n",
       "      <td>False</td>\n",
       "    </tr>\n",
       "    <tr>\n",
       "      <th>174</th>\n",
       "      <td>False</td>\n",
       "      <td>False</td>\n",
       "      <td>False</td>\n",
       "      <td>False</td>\n",
       "      <td>False</td>\n",
       "      <td>False</td>\n",
       "      <td>False</td>\n",
       "      <td>False</td>\n",
       "      <td>True</td>\n",
       "      <td>False</td>\n",
       "    </tr>\n",
       "    <tr>\n",
       "      <th>175</th>\n",
       "      <td>False</td>\n",
       "      <td>False</td>\n",
       "      <td>False</td>\n",
       "      <td>False</td>\n",
       "      <td>False</td>\n",
       "      <td>False</td>\n",
       "      <td>False</td>\n",
       "      <td>False</td>\n",
       "      <td>True</td>\n",
       "      <td>False</td>\n",
       "    </tr>\n",
       "    <tr>\n",
       "      <th>176</th>\n",
       "      <td>False</td>\n",
       "      <td>False</td>\n",
       "      <td>False</td>\n",
       "      <td>False</td>\n",
       "      <td>False</td>\n",
       "      <td>False</td>\n",
       "      <td>False</td>\n",
       "      <td>False</td>\n",
       "      <td>True</td>\n",
       "      <td>False</td>\n",
       "    </tr>\n",
       "    <tr>\n",
       "      <th>177</th>\n",
       "      <td>False</td>\n",
       "      <td>False</td>\n",
       "      <td>False</td>\n",
       "      <td>False</td>\n",
       "      <td>False</td>\n",
       "      <td>False</td>\n",
       "      <td>False</td>\n",
       "      <td>False</td>\n",
       "      <td>True</td>\n",
       "      <td>False</td>\n",
       "    </tr>\n",
       "  </tbody>\n",
       "</table>\n",
       "<p>178 rows × 10 columns</p>\n",
       "</div>"
      ],
      "text/plain": [
       "       1st    2nd    3rd    4th    5th  College Code  Gender   Roll  Roll no.  \\\n",
       "0    False  False  False  False  False         False   False   True     False   \n",
       "1    False  False  False  False  False         False   False   True     False   \n",
       "2    False  False  False  False  False         False   False   True     False   \n",
       "3    False  False  False  False  False         False   False   True     False   \n",
       "4    False  False  False  False  False         False   False   True     False   \n",
       "..     ...    ...    ...    ...    ...           ...     ...    ...       ...   \n",
       "173  False  False  False  False  False         False   False  False      True   \n",
       "174  False  False  False  False  False         False   False  False      True   \n",
       "175  False  False  False  False  False         False   False  False      True   \n",
       "176  False  False  False  False  False         False   False  False      True   \n",
       "177  False  False  False  False  False         False   False  False      True   \n",
       "\n",
       "     Subject Code  \n",
       "0           False  \n",
       "1           False  \n",
       "2           False  \n",
       "3           False  \n",
       "4           False  \n",
       "..            ...  \n",
       "173         False  \n",
       "174         False  \n",
       "175         False  \n",
       "176         False  \n",
       "177         False  \n",
       "\n",
       "[178 rows x 10 columns]"
      ]
     },
     "execution_count": 6,
     "metadata": {},
     "output_type": "execute_result"
    }
   ],
   "source": [
    "df.isnull()"
   ]
  },
  {
   "cell_type": "code",
   "execution_count": 7,
   "id": "3d2d47c3-0f2a-463a-a045-11733e57bfe0",
   "metadata": {},
   "outputs": [
    {
     "data": {
      "text/plain": [
       "1st               2\n",
       "2nd               4\n",
       "3rd               2\n",
       "4th               5\n",
       "5th               6\n",
       "College Code      0\n",
       "Gender            1\n",
       "Roll             46\n",
       "Roll no.        132\n",
       "Subject Code      0\n",
       "dtype: int64"
      ]
     },
     "execution_count": 7,
     "metadata": {},
     "output_type": "execute_result"
    }
   ],
   "source": [
    "df.isnull().sum()"
   ]
  },
  {
   "cell_type": "code",
   "execution_count": 8,
   "id": "87d74289-0a2e-4e1a-a252-42d88ab3c260",
   "metadata": {},
   "outputs": [],
   "source": [
    "avg_1st=df[\"1st\"].astype(\"float64\").mean(axis=0)\n",
    "avg_2nd=df[\"2nd\"].astype(\"float64\").mean(axis=0)\n",
    "avg_3rd=df[\"3rd\"].astype(\"float64\").mean(axis=0)\n",
    "avg_4th=df[\"4th\"].astype(\"float64\").mean(axis=0)\n",
    "avg_5th=df[\"5th\"].astype(\"float64\").mean(axis=0)"
   ]
  },
  {
   "cell_type": "code",
   "execution_count": 9,
   "id": "193da12b-3070-41fd-b791-e4116e986550",
   "metadata": {},
   "outputs": [
    {
     "name": "stdout",
     "output_type": "stream",
     "text": [
      "Average Marks:\n",
      "1st: 7.038863636363637\n",
      "2nd: 6.943390804597701\n",
      "3rd: 6.6225\n",
      "4th: 7.027745664739886\n",
      "5th: 7.432558139534884\n"
     ]
    }
   ],
   "source": [
    "print(\"Average Marks:\")\n",
    "print(\"1st:\",avg_1st)\n",
    "print(\"2nd:\",avg_2nd)\n",
    "print(\"3rd:\",avg_3rd)\n",
    "print(\"4th:\",avg_4th)\n",
    "print(\"5th:\",avg_5th)"
   ]
  },
  {
   "cell_type": "code",
   "execution_count": 10,
   "id": "81eefaed-7976-4f8a-a8dd-fba76446b3fc",
   "metadata": {},
   "outputs": [],
   "source": [
    "df[\"1st\"].replace(np.nan,avg_1st,inplace=True)\n",
    "df[\"2nd\"].replace(np.nan,avg_2nd,inplace=True)\n",
    "df[\"3rd\"].replace(np.nan,avg_3rd,inplace=True)\n",
    "df[\"4th\"].replace(np.nan,avg_4th,inplace=True)\n",
    "df[\"5th\"].replace(np.nan,avg_5th,inplace=True)"
   ]
  },
  {
   "cell_type": "code",
   "execution_count": 11,
   "id": "8a2c8973-8e7b-4fd1-8b8d-f1ffe12b27f1",
   "metadata": {},
   "outputs": [
    {
     "data": {
      "text/plain": [
       "1st               0\n",
       "2nd               0\n",
       "3rd               0\n",
       "4th               0\n",
       "5th               0\n",
       "College Code      0\n",
       "Gender            1\n",
       "Roll             46\n",
       "Roll no.        132\n",
       "Subject Code      0\n",
       "dtype: int64"
      ]
     },
     "execution_count": 11,
     "metadata": {},
     "output_type": "execute_result"
    }
   ],
   "source": [
    "df.isnull().sum()"
   ]
  },
  {
   "cell_type": "code",
   "execution_count": 12,
   "id": "15d1d94b-1237-4733-be1a-28ddf7eec339",
   "metadata": {},
   "outputs": [],
   "source": [
    "max_1st=max(df[\"1st\"])\n",
    "max_2nd=max(df[\"2nd\"])\n",
    "max_3rd=max(df[\"3rd\"])\n",
    "max_4th=max(df[\"4th\"])\n",
    "max_5th=max(df[\"5th\"])"
   ]
  },
  {
   "cell_type": "code",
   "execution_count": 13,
   "id": "621bb606-8b91-4ac6-874a-c66be39a7452",
   "metadata": {},
   "outputs": [],
   "source": [
    "cgpa_cols=[\"1st\",\"2nd\",\"3rd\",\"4th\",\"5th\"]\n",
    "max_values=[max_1st,max_2nd,max_3rd,max_4th,max_5th]"
   ]
  },
  {
   "cell_type": "code",
   "execution_count": 14,
   "id": "be231e26-6959-4f28-9c89-818faa35fcdf",
   "metadata": {},
   "outputs": [
    {
     "name": "stdout",
     "output_type": "stream",
     "text": [
      "[9.15, 9.21, 9.59, 9.31, 9.46]\n"
     ]
    }
   ],
   "source": [
    "print(max_values)"
   ]
  },
  {
   "cell_type": "code",
   "execution_count": 15,
   "id": "45b2527b-f2a3-445e-be4d-67afb1b84653",
   "metadata": {},
   "outputs": [],
   "source": [
    "for col,max_val in zip(cgpa_cols,max_values):\n",
    "    df[col+\"_percentage\"]=(df[col]/max_val)*100"
   ]
  },
  {
   "cell_type": "code",
   "execution_count": 16,
   "id": "a534125a-67fd-4942-8093-26e1ac5db804",
   "metadata": {},
   "outputs": [
    {
     "name": "stdout",
     "output_type": "stream",
     "text": [
      "      1st   2nd   3rd   4th   5th  College Code  Gender     Roll  Roll no.  \\\n",
      "0    8.11  7.68  7.11  7.43  8.18           115  Female      NaN   17020.0   \n",
      "1    6.48  5.90  4.15  4.29  4.96           115    Male      NaN   17021.0   \n",
      "2    8.41  8.24  7.52  8.25  7.75           115  Female      NaN   17022.0   \n",
      "3    7.33  6.83  6.33  6.79  6.89           115    Male      NaN   17023.0   \n",
      "4    7.89  7.34  7.22  7.32  7.46           115    Male      NaN   17024.0   \n",
      "..    ...   ...   ...   ...   ...           ...     ...      ...       ...   \n",
      "173  7.48  7.55  7.67  7.39  8.65           241       F  17048.0       NaN   \n",
      "174  7.30  6.41  6.59  7.11  7.38           241       M  17049.0       NaN   \n",
      "175  6.30  6.28  5.89  5.71  6.50           241       M  17050.0       NaN   \n",
      "176  7.04  7.10  6.81  7.00  6.92           241       M  17051.0       NaN   \n",
      "177  6.70  6.81  6.52  5.39  7.00           241       M  17052.0       NaN   \n",
      "\n",
      "     Subject Code  1st_percentage  2nd_percentage  3rd_percentage  \\\n",
      "0              16       88.633880       83.387622       74.139729   \n",
      "1              16       70.819672       64.060803       43.274244   \n",
      "2              16       91.912568       89.467970       78.415016   \n",
      "3              16       80.109290       74.158523       66.006257   \n",
      "4              16       86.229508       79.695983       75.286757   \n",
      "..            ...             ...             ...             ...   \n",
      "173            28       81.748634       81.976113       79.979145   \n",
      "174            28       79.781421       69.598263       68.717414   \n",
      "175            28       68.852459       68.186754       61.418144   \n",
      "176            28       76.939891       77.090119       71.011470   \n",
      "177            28       73.224044       73.941368       67.987487   \n",
      "\n",
      "     4th_percentage  5th_percentage  \n",
      "0         79.806660       86.469345  \n",
      "1         46.079484       52.431290  \n",
      "2         88.614393       81.923890  \n",
      "3         72.932331       72.832981  \n",
      "4         78.625134       78.858351  \n",
      "..              ...             ...  \n",
      "173       79.377014       91.437632  \n",
      "174       76.369495       78.012685  \n",
      "175       61.331901       68.710359  \n",
      "176       75.187970       73.150106  \n",
      "177       57.894737       73.995772  \n",
      "\n",
      "[178 rows x 15 columns]\n"
     ]
    }
   ],
   "source": [
    "print(df)"
   ]
  },
  {
   "cell_type": "code",
   "execution_count": null,
   "id": "33af1215-47ef-4338-a272-c819061a1e94",
   "metadata": {},
   "outputs": [],
   "source": []
  }
 ],
 "metadata": {
  "kernelspec": {
   "display_name": "Python 3 (ipykernel)",
   "language": "python",
   "name": "python3"
  },
  "language_info": {
   "codemirror_mode": {
    "name": "ipython",
    "version": 3
   },
   "file_extension": ".py",
   "mimetype": "text/x-python",
   "name": "python",
   "nbconvert_exporter": "python",
   "pygments_lexer": "ipython3",
   "version": "3.11.7"
  }
 },
 "nbformat": 4,
 "nbformat_minor": 5
}
