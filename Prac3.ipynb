{
 "cells": [
  {
   "cell_type": "code",
   "execution_count": 1,
   "id": "edec5269-f561-4942-b0ba-a914b2a8b4e1",
   "metadata": {},
   "outputs": [],
   "source": [
    "import opendatasets as od\n",
    "import pandas as pd\n",
    "import statistics as st\n",
    "import numpy as np"
   ]
  },
  {
   "cell_type": "code",
   "execution_count": 2,
   "id": "03140b84-87a2-48fe-ac0e-83b09261606b",
   "metadata": {},
   "outputs": [
    {
     "name": "stdout",
     "output_type": "stream",
     "text": [
      "Please provide your Kaggle credentials to download this dataset. Learn more: http://bit.ly/kaggle-creds\n",
      "Your Kaggle username:"
     ]
    },
    {
     "name": "stdin",
     "output_type": "stream",
     "text": [
      "  pritipatil07\n"
     ]
    },
    {
     "name": "stdout",
     "output_type": "stream",
     "text": [
      "Your Kaggle Key:"
     ]
    },
    {
     "name": "stdin",
     "output_type": "stream",
     "text": [
      "  ········\n"
     ]
    },
    {
     "name": "stdout",
     "output_type": "stream",
     "text": [
      "Dataset URL: https://www.kaggle.com/datasets/uciml/iris\n",
      "Downloading iris.zip to .\\iris\n"
     ]
    },
    {
     "name": "stderr",
     "output_type": "stream",
     "text": [
      "100%|██████████| 3.60k/3.60k [00:00<00:00, 781kB/s]"
     ]
    },
    {
     "name": "stdout",
     "output_type": "stream",
     "text": [
      "\n"
     ]
    },
    {
     "name": "stderr",
     "output_type": "stream",
     "text": [
      "\n"
     ]
    }
   ],
   "source": [
    "od.download(\"https://www.kaggle.com/datasets/uciml/iris\")"
   ]
  },
  {
   "cell_type": "code",
   "execution_count": 3,
   "id": "905933f6-9241-446c-9570-5f9a5b30f6c3",
   "metadata": {},
   "outputs": [],
   "source": [
    "df=pd.read_csv(\"C:/Users/hp/Downloads/DSBDA Practicals/iris/iris.csv\")"
   ]
  },
  {
   "cell_type": "code",
   "execution_count": 4,
   "id": "ee62544f-0378-42c5-8886-6503df8af90e",
   "metadata": {},
   "outputs": [
    {
     "data": {
      "text/html": [
       "<div>\n",
       "<style scoped>\n",
       "    .dataframe tbody tr th:only-of-type {\n",
       "        vertical-align: middle;\n",
       "    }\n",
       "\n",
       "    .dataframe tbody tr th {\n",
       "        vertical-align: top;\n",
       "    }\n",
       "\n",
       "    .dataframe thead th {\n",
       "        text-align: right;\n",
       "    }\n",
       "</style>\n",
       "<table border=\"1\" class=\"dataframe\">\n",
       "  <thead>\n",
       "    <tr style=\"text-align: right;\">\n",
       "      <th></th>\n",
       "      <th>Id</th>\n",
       "      <th>SepalLengthCm</th>\n",
       "      <th>SepalWidthCm</th>\n",
       "      <th>PetalLengthCm</th>\n",
       "      <th>PetalWidthCm</th>\n",
       "      <th>Species</th>\n",
       "    </tr>\n",
       "  </thead>\n",
       "  <tbody>\n",
       "    <tr>\n",
       "      <th>0</th>\n",
       "      <td>1</td>\n",
       "      <td>5.1</td>\n",
       "      <td>3.5</td>\n",
       "      <td>1.4</td>\n",
       "      <td>0.2</td>\n",
       "      <td>Iris-setosa</td>\n",
       "    </tr>\n",
       "    <tr>\n",
       "      <th>1</th>\n",
       "      <td>2</td>\n",
       "      <td>4.9</td>\n",
       "      <td>3.0</td>\n",
       "      <td>1.4</td>\n",
       "      <td>0.2</td>\n",
       "      <td>Iris-setosa</td>\n",
       "    </tr>\n",
       "    <tr>\n",
       "      <th>2</th>\n",
       "      <td>3</td>\n",
       "      <td>4.7</td>\n",
       "      <td>3.2</td>\n",
       "      <td>1.3</td>\n",
       "      <td>0.2</td>\n",
       "      <td>Iris-setosa</td>\n",
       "    </tr>\n",
       "    <tr>\n",
       "      <th>3</th>\n",
       "      <td>4</td>\n",
       "      <td>4.6</td>\n",
       "      <td>3.1</td>\n",
       "      <td>1.5</td>\n",
       "      <td>0.2</td>\n",
       "      <td>Iris-setosa</td>\n",
       "    </tr>\n",
       "    <tr>\n",
       "      <th>4</th>\n",
       "      <td>5</td>\n",
       "      <td>5.0</td>\n",
       "      <td>3.6</td>\n",
       "      <td>1.4</td>\n",
       "      <td>0.2</td>\n",
       "      <td>Iris-setosa</td>\n",
       "    </tr>\n",
       "  </tbody>\n",
       "</table>\n",
       "</div>"
      ],
      "text/plain": [
       "   Id  SepalLengthCm  SepalWidthCm  PetalLengthCm  PetalWidthCm      Species\n",
       "0   1            5.1           3.5            1.4           0.2  Iris-setosa\n",
       "1   2            4.9           3.0            1.4           0.2  Iris-setosa\n",
       "2   3            4.7           3.2            1.3           0.2  Iris-setosa\n",
       "3   4            4.6           3.1            1.5           0.2  Iris-setosa\n",
       "4   5            5.0           3.6            1.4           0.2  Iris-setosa"
      ]
     },
     "execution_count": 4,
     "metadata": {},
     "output_type": "execute_result"
    }
   ],
   "source": [
    "df.head()"
   ]
  },
  {
   "cell_type": "code",
   "execution_count": 5,
   "id": "740f467f-944d-4671-be90-08f840922674",
   "metadata": {},
   "outputs": [],
   "source": [
    "summary=df.groupby('Species')['SepalLengthCm'].describe()"
   ]
  },
  {
   "cell_type": "code",
   "execution_count": 6,
   "id": "694fe887-34a3-4e3d-b714-eb436c9ea1cd",
   "metadata": {},
   "outputs": [
    {
     "name": "stdout",
     "output_type": "stream",
     "text": [
      "                 count   mean       std  min    25%  50%  75%  max\n",
      "Species                                                           \n",
      "Iris-setosa       50.0  5.006  0.352490  4.3  4.800  5.0  5.2  5.8\n",
      "Iris-versicolor   50.0  5.936  0.516171  4.9  5.600  5.9  6.3  7.0\n",
      "Iris-virginica    50.0  6.588  0.635880  4.9  6.225  6.5  6.9  7.9\n"
     ]
    }
   ],
   "source": [
    "print(summary)"
   ]
  },
  {
   "cell_type": "code",
   "execution_count": 7,
   "id": "99aa1209-66bd-4b16-aa24-9bf20be436ad",
   "metadata": {},
   "outputs": [],
   "source": [
    "def custom_describe(x):\n",
    "    mode_value=st.mode(x)\n",
    "    median_value=np.median(x)\n",
    "    return pd.Series([x.count(),x.mean(),x.std(),median_value,mode_value,x.min(),x.max()],\n",
    "                    index=['count','mean','std','median','mode','min','max'])"
   ]
  },
  {
   "cell_type": "code",
   "execution_count": 8,
   "id": "5c52b12c-f181-40c5-aa3d-2b9922a28df0",
   "metadata": {},
   "outputs": [],
   "source": [
    "custom_summary=df.groupby('Species')['SepalLengthCm'].apply(custom_describe)"
   ]
  },
  {
   "cell_type": "code",
   "execution_count": 9,
   "id": "5093f342-4130-4ca1-876a-44ed1c87a1a5",
   "metadata": {},
   "outputs": [
    {
     "name": "stdout",
     "output_type": "stream",
     "text": [
      "Species                \n",
      "Iris-setosa      count     50.000000\n",
      "                 mean       5.006000\n",
      "                 std        0.352490\n",
      "                 median     5.000000\n",
      "                 mode       5.100000\n",
      "                 min        4.300000\n",
      "                 max        5.800000\n",
      "Iris-versicolor  count     50.000000\n",
      "                 mean       5.936000\n",
      "                 std        0.516171\n",
      "                 median     5.900000\n",
      "                 mode       5.500000\n",
      "                 min        4.900000\n",
      "                 max        7.000000\n",
      "Iris-virginica   count     50.000000\n",
      "                 mean       6.588000\n",
      "                 std        0.635880\n",
      "                 median     6.500000\n",
      "                 mode       6.300000\n",
      "                 min        4.900000\n",
      "                 max        7.900000\n",
      "Name: SepalLengthCm, dtype: float64\n"
     ]
    }
   ],
   "source": [
    "print(custom_summary)"
   ]
  },
  {
   "cell_type": "code",
   "execution_count": 10,
   "id": "0e381c6b-bfb5-49e5-8fd9-ab8510449e08",
   "metadata": {},
   "outputs": [
    {
     "name": "stdout",
     "output_type": "stream",
     "text": [
      "Mean Summary:\n",
      "Species\n",
      "Iris-setosa        5.006\n",
      "Iris-versicolor    5.936\n",
      "Iris-virginica     6.588\n",
      "Name: SepalLengthCm, dtype: float64\n"
     ]
    }
   ],
   "source": [
    "print(\"Mean Summary:\")\n",
    "mean_summary=df.groupby('Species')['SepalLengthCm'].mean()\n",
    "print(mean_summary)"
   ]
  },
  {
   "cell_type": "code",
   "execution_count": 11,
   "id": "855b4d26-70e5-44c4-9442-98e6c1ecbfbc",
   "metadata": {},
   "outputs": [
    {
     "name": "stdout",
     "output_type": "stream",
     "text": [
      "Median Summary:\n",
      "Species\n",
      "Iris-setosa        5.0\n",
      "Iris-versicolor    5.9\n",
      "Iris-virginica     6.5\n",
      "Name: SepalLengthCm, dtype: float64\n"
     ]
    }
   ],
   "source": [
    "print(\"Median Summary:\")\n",
    "median_summary=df.groupby('Species')['SepalLengthCm'].median()\n",
    "print(median_summary)"
   ]
  },
  {
   "cell_type": "code",
   "execution_count": 12,
   "id": "493ce88d-4a4a-42ed-be6d-40c329900688",
   "metadata": {},
   "outputs": [
    {
     "name": "stdout",
     "output_type": "stream",
     "text": [
      "Mode Summary:\n",
      "Species\n",
      "Iris-setosa        5.1\n",
      "Iris-versicolor    5.5\n",
      "Iris-virginica     6.3\n",
      "Name: SepalLengthCm, dtype: float64\n"
     ]
    }
   ],
   "source": [
    "print(\"Mode Summary:\")\n",
    "mode_summary=df.groupby('Species')['SepalLengthCm'].apply(lambda x:st.mode(x))\n",
    "print(mode_summary)"
   ]
  },
  {
   "cell_type": "code",
   "execution_count": 20,
   "id": "5e7f3be1-aa3f-4388-8875-f98a5f081913",
   "metadata": {},
   "outputs": [
    {
     "name": "stdout",
     "output_type": "stream",
     "text": [
      "[50, 50, 50]\n"
     ]
    }
   ],
   "source": [
    "species_size_summary=df.groupby('Species').size().tolist()\n",
    "print(species_size_summary)"
   ]
  },
  {
   "cell_type": "code",
   "execution_count": 21,
   "id": "c0a661c8-d082-4d99-ac29-5e2fac76b07d",
   "metadata": {},
   "outputs": [
    {
     "name": "stdout",
     "output_type": "stream",
     "text": [
      "                   Id                                                        \\\n",
      "                count   mean       std    min     25%    50%     75%    max   \n",
      "Species                                                                       \n",
      "Iris-setosa      50.0   25.5  14.57738    1.0   13.25   25.5   37.75   50.0   \n",
      "Iris-versicolor  50.0   75.5  14.57738   51.0   63.25   75.5   87.75  100.0   \n",
      "Iris-virginica   50.0  125.5  14.57738  101.0  113.25  125.5  137.75  150.0   \n",
      "\n",
      "                SepalLengthCm         ... PetalLengthCm      PetalWidthCm  \\\n",
      "                        count   mean  ...           75%  max        count   \n",
      "Species                               ...                                   \n",
      "Iris-setosa              50.0  5.006  ...         1.575  1.9         50.0   \n",
      "Iris-versicolor          50.0  5.936  ...         4.600  5.1         50.0   \n",
      "Iris-virginica           50.0  6.588  ...         5.875  6.9         50.0   \n",
      "\n",
      "                                                           \n",
      "                  mean       std  min  25%  50%  75%  max  \n",
      "Species                                                    \n",
      "Iris-setosa      0.244  0.107210  0.1  0.2  0.2  0.3  0.6  \n",
      "Iris-versicolor  1.326  0.197753  1.0  1.2  1.3  1.5  1.8  \n",
      "Iris-virginica   2.026  0.274650  1.4  1.8  2.0  2.3  2.5  \n",
      "\n",
      "[3 rows x 40 columns]\n"
     ]
    }
   ],
   "source": [
    "species_statistics_summary=df.groupby('Species').describe()\n",
    "print(species_statistics_summary)"
   ]
  },
  {
   "cell_type": "code",
   "execution_count": 34,
   "id": "fb0662c1-becf-458c-a76b-baf7e32783b8",
   "metadata": {},
   "outputs": [],
   "source": [
    "iris_setosa=df[df['Species']=='Iris-setosa'].describe()\n",
    "iris_versicolor=df[df['Species']=='Iris-versicolor'].describe()\n",
    "iris_virginica=df[df['Species']=='Iris-virginica'].describe()"
   ]
  },
  {
   "cell_type": "code",
   "execution_count": 37,
   "id": "c043abb4-a862-45a3-b048-1adb2ae072e7",
   "metadata": {},
   "outputs": [
    {
     "name": "stdout",
     "output_type": "stream",
     "text": [
      "Iris-setosa Summary:\n",
      "             Id  SepalLengthCm  SepalWidthCm  PetalLengthCm  PetalWidthCm\n",
      "count  50.00000       50.00000     50.000000      50.000000      50.00000\n",
      "mean   25.50000        5.00600      3.418000       1.464000       0.24400\n",
      "std    14.57738        0.35249      0.381024       0.173511       0.10721\n",
      "min     1.00000        4.30000      2.300000       1.000000       0.10000\n",
      "25%    13.25000        4.80000      3.125000       1.400000       0.20000\n",
      "50%    25.50000        5.00000      3.400000       1.500000       0.20000\n",
      "75%    37.75000        5.20000      3.675000       1.575000       0.30000\n",
      "max    50.00000        5.80000      4.400000       1.900000       0.60000\n",
      "\n",
      "Iris-versicolor Summary:\n",
      "              Id  SepalLengthCm  SepalWidthCm  PetalLengthCm  PetalWidthCm\n",
      "count   50.00000      50.000000     50.000000      50.000000     50.000000\n",
      "mean    75.50000       5.936000      2.770000       4.260000      1.326000\n",
      "std     14.57738       0.516171      0.313798       0.469911      0.197753\n",
      "min     51.00000       4.900000      2.000000       3.000000      1.000000\n",
      "25%     63.25000       5.600000      2.525000       4.000000      1.200000\n",
      "50%     75.50000       5.900000      2.800000       4.350000      1.300000\n",
      "75%     87.75000       6.300000      3.000000       4.600000      1.500000\n",
      "max    100.00000       7.000000      3.400000       5.100000      1.800000\n",
      "\n",
      "Iris-virginica Summary:\n",
      "              Id  SepalLengthCm  SepalWidthCm  PetalLengthCm  PetalWidthCm\n",
      "count   50.00000       50.00000     50.000000      50.000000      50.00000\n",
      "mean   125.50000        6.58800      2.974000       5.552000       2.02600\n",
      "std     14.57738        0.63588      0.322497       0.551895       0.27465\n",
      "min    101.00000        4.90000      2.200000       4.500000       1.40000\n",
      "25%    113.25000        6.22500      2.800000       5.100000       1.80000\n",
      "50%    125.50000        6.50000      3.000000       5.550000       2.00000\n",
      "75%    137.75000        6.90000      3.175000       5.875000       2.30000\n",
      "max    150.00000        7.90000      3.800000       6.900000       2.50000\n"
     ]
    }
   ],
   "source": [
    "print(\"Iris-setosa Summary:\")\n",
    "print(iris_setosa)\n",
    "print(\"\\nIris-versicolor Summary:\")\n",
    "print(iris_versicolor)\n",
    "print(\"\\nIris-virginica Summary:\")\n",
    "print(iris_virginica)"
   ]
  },
  {
   "cell_type": "code",
   "execution_count": null,
   "id": "95d326ad-90e6-4b0e-9272-5a49e8077f31",
   "metadata": {},
   "outputs": [],
   "source": []
  }
 ],
 "metadata": {
  "kernelspec": {
   "display_name": "Python 3 (ipykernel)",
   "language": "python",
   "name": "python3"
  },
  "language_info": {
   "codemirror_mode": {
    "name": "ipython",
    "version": 3
   },
   "file_extension": ".py",
   "mimetype": "text/x-python",
   "name": "python",
   "nbconvert_exporter": "python",
   "pygments_lexer": "ipython3",
   "version": "3.11.7"
  }
 },
 "nbformat": 4,
 "nbformat_minor": 5
}
